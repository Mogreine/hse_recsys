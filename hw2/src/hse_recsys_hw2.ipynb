{
  "nbformat": 4,
  "nbformat_minor": 0,
  "metadata": {
    "colab": {
      "name": "hse_recsys_hw2.ipynb",
      "provenance": [],
      "collapsed_sections": []
    },
    "kernelspec": {
      "name": "python3",
      "display_name": "Python 3"
    },
    "language_info": {
      "name": "python"
    },
    "accelerator": "GPU",
    "widgets": {
      "application/vnd.jupyter.widget-state+json": {
        "20d5b34c458a4e2cafb661c8f7420674": {
          "model_module": "catboost-widget",
          "model_name": "CatboostWidgetModel",
          "model_module_version": "^1.0.0",
          "state": {
            "_view_name": "CatboostWidgetView",
            "_dom_classes": [],
            "_model_name": "CatboostWidgetModel",
            "data": {
              "YetiRank": {
                "content": {
                  "data": {
                    "meta": {
                      "name": "experiment",
                      "parameters": "",
                      "test_metrics": [
                        {
                          "best_value": "Max",
                          "name": "PFound"
                        },
                        {
                          "best_value": "Max",
                          "name": "NDCG:type=Base"
                        },
                        {
                          "best_value": "Max",
                          "name": "QueryAUC"
                        },
                        {
                          "best_value": "Max",
                          "name": "AUC"
                        },
                        {
                          "best_value": "Max",
                          "name": "AverageGain:top=10"
                        }
                      ],
                      "learn_sets": [
                        "learn"
                      ],
                      "launch_mode": "Train",
                      "learn_metrics": [
                        {
                          "best_value": "Max",
                          "name": "AUC"
                        },
                        {
                          "best_value": "Max",
                          "name": "AverageGain:top=10"
                        }
                      ],
                      "iteration_count": 200,
                      "test_sets": [
                        "test"
                      ]
                    },
                    "iterations": [
                      {
                        "test": [
                          0.7349508564,
                          0.8294474433,
                          0.523154935,
                          0.6766308343,
                          0.4838023353
                        ],
                        "passed_time": 3.480014213,
                        "iteration": 0,
                        "remaining_time": 692.5228284,
                        "learn": [
                          0.6790936986,
                          0.4790894644
                        ]
                      },
                      {
                        "test": [
                          0.7821480678,
                          0.8690492505,
                          0.537957218,
                          0.6866634286,
                          0.5437295393
                        ],
                        "passed_time": 114.4658376,
                        "iteration": 50,
                        "remaining_time": 334.4197999,
                        "learn": [
                          0.6900953213,
                          0.5666733793
                        ]
                      },
                      {
                        "test": [
                          0.7845300042,
                          0.8712116227,
                          0.5404103116,
                          0.6889993011,
                          0.5466693776
                        ],
                        "passed_time": 233.8806774,
                        "iteration": 100,
                        "remaining_time": 229.2493768,
                        "learn": [
                          0.6925258259,
                          0.5714756392
                        ]
                      },
                      {
                        "test": [
                          0.7853412981,
                          0.8721082173,
                          0.5422717005,
                          0.690234423,
                          0.5478033153
                        ],
                        "passed_time": 357.2906063,
                        "iteration": 150,
                        "remaining_time": 115.9419848,
                        "learn": [
                          0.6935002505,
                          0.5734696572
                        ]
                      },
                      {
                        "test": [
                          0.7857538027,
                          0.8725562643,
                          0.5432433274,
                          0.6909192263,
                          0.5482127927
                        ],
                        "passed_time": 481.3744301,
                        "iteration": 199,
                        "remaining_time": 0,
                        "learn": [
                          0.6940364596,
                          0.5745231633
                        ]
                      }
                    ]
                  },
                  "total_iterations": 200,
                  "passed_iterations": 199
                },
                "path": "YetiRank",
                "name": "YetiRank"
              }
            },
            "_view_module": "catboost-widget",
            "_model_module_version": "^1.0.0",
            "_view_count": null,
            "_view_module_version": "^1.0.0",
            "layout": "IPY_MODEL_a7fb0fa28fb24da0b73be3c833f4bb4c",
            "_model_module": "catboost-widget"
          }
        }
      }
    }
  },
  "cells": [
    {
      "cell_type": "code",
      "metadata": {
        "colab": {
          "base_uri": "https://localhost:8080/"
        },
        "id": "_iF0SP-LEV9j",
        "outputId": "3bf0ae34-ce8c-47bd-ed3c-99ff9ed38b61"
      },
      "source": [
        "!nvidia-smi"
      ],
      "execution_count": 1,
      "outputs": [
        {
          "output_type": "stream",
          "name": "stdout",
          "text": [
            "Sat Nov 27 15:49:38 2021       \n",
            "+-----------------------------------------------------------------------------+\n",
            "| NVIDIA-SMI 495.44       Driver Version: 460.32.03    CUDA Version: 11.2     |\n",
            "|-------------------------------+----------------------+----------------------+\n",
            "| GPU  Name        Persistence-M| Bus-Id        Disp.A | Volatile Uncorr. ECC |\n",
            "| Fan  Temp  Perf  Pwr:Usage/Cap|         Memory-Usage | GPU-Util  Compute M. |\n",
            "|                               |                      |               MIG M. |\n",
            "|===============================+======================+======================|\n",
            "|   0  Tesla K80           Off  | 00000000:00:04.0 Off |                    0 |\n",
            "| N/A   49C    P8    26W / 149W |      0MiB / 11441MiB |      0%      Default |\n",
            "|                               |                      |                  N/A |\n",
            "+-------------------------------+----------------------+----------------------+\n",
            "                                                                               \n",
            "+-----------------------------------------------------------------------------+\n",
            "| Processes:                                                                  |\n",
            "|  GPU   GI   CI        PID   Type   Process name                  GPU Memory |\n",
            "|        ID   ID                                                   Usage      |\n",
            "|=============================================================================|\n",
            "|  No running processes found                                                 |\n",
            "+-----------------------------------------------------------------------------+\n"
          ]
        }
      ]
    },
    {
      "cell_type": "code",
      "metadata": {
        "colab": {
          "base_uri": "https://localhost:8080/"
        },
        "id": "v0GdZveREMWe",
        "outputId": "34fdb992-7618-491b-8eb3-57babea01f24"
      },
      "source": [
        "!pip install catboost"
      ],
      "execution_count": 2,
      "outputs": [
        {
          "output_type": "stream",
          "name": "stdout",
          "text": [
            "Collecting catboost\n",
            "  Downloading catboost-1.0.3-cp37-none-manylinux1_x86_64.whl (76.3 MB)\n",
            "\u001b[K     |████████████████████████████████| 76.3 MB 1.3 MB/s \n",
            "\u001b[?25hRequirement already satisfied: numpy>=1.16.0 in /usr/local/lib/python3.7/dist-packages (from catboost) (1.19.5)\n",
            "Requirement already satisfied: scipy in /usr/local/lib/python3.7/dist-packages (from catboost) (1.4.1)\n",
            "Requirement already satisfied: pandas>=0.24.0 in /usr/local/lib/python3.7/dist-packages (from catboost) (1.1.5)\n",
            "Requirement already satisfied: matplotlib in /usr/local/lib/python3.7/dist-packages (from catboost) (3.2.2)\n",
            "Requirement already satisfied: six in /usr/local/lib/python3.7/dist-packages (from catboost) (1.15.0)\n",
            "Requirement already satisfied: graphviz in /usr/local/lib/python3.7/dist-packages (from catboost) (0.10.1)\n",
            "Requirement already satisfied: plotly in /usr/local/lib/python3.7/dist-packages (from catboost) (4.4.1)\n",
            "Requirement already satisfied: python-dateutil>=2.7.3 in /usr/local/lib/python3.7/dist-packages (from pandas>=0.24.0->catboost) (2.8.2)\n",
            "Requirement already satisfied: pytz>=2017.2 in /usr/local/lib/python3.7/dist-packages (from pandas>=0.24.0->catboost) (2018.9)\n",
            "Requirement already satisfied: kiwisolver>=1.0.1 in /usr/local/lib/python3.7/dist-packages (from matplotlib->catboost) (1.3.2)\n",
            "Requirement already satisfied: pyparsing!=2.0.4,!=2.1.2,!=2.1.6,>=2.0.1 in /usr/local/lib/python3.7/dist-packages (from matplotlib->catboost) (3.0.6)\n",
            "Requirement already satisfied: cycler>=0.10 in /usr/local/lib/python3.7/dist-packages (from matplotlib->catboost) (0.11.0)\n",
            "Requirement already satisfied: retrying>=1.3.3 in /usr/local/lib/python3.7/dist-packages (from plotly->catboost) (1.3.3)\n",
            "Installing collected packages: catboost\n",
            "Successfully installed catboost-1.0.3\n"
          ]
        }
      ]
    },
    {
      "cell_type": "code",
      "metadata": {
        "colab": {
          "base_uri": "https://localhost:8080/"
        },
        "id": "ogG7KhX-ES7b",
        "outputId": "4e92148f-5589-45df-cb63-5200d7c96544"
      },
      "source": [
        "!mkdir data\n",
        "%cd data\n",
        "!wget https://voudy-data.s3.eu-north-1.amazonaws.com/wsdm_data.tar.gz\n",
        "!tar xvzf wsdm_data.tar.gz\n",
        "%cd ..\n",
        "!mkdir src"
      ],
      "execution_count": 3,
      "outputs": [
        {
          "output_type": "stream",
          "name": "stdout",
          "text": [
            "/content/data\n",
            "--2021-11-27 15:49:51--  https://voudy-data.s3.eu-north-1.amazonaws.com/wsdm_data.tar.gz\n",
            "Resolving voudy-data.s3.eu-north-1.amazonaws.com (voudy-data.s3.eu-north-1.amazonaws.com)... 52.95.169.76\n",
            "Connecting to voudy-data.s3.eu-north-1.amazonaws.com (voudy-data.s3.eu-north-1.amazonaws.com)|52.95.169.76|:443... connected.\n",
            "HTTP request sent, awaiting response... 200 OK\n",
            "Length: 613394184 (585M) [application/x-gzip]\n",
            "Saving to: ‘wsdm_data.tar.gz’\n",
            "\n",
            "wsdm_data.tar.gz    100%[===================>] 584.98M  10.8MB/s    in 57s     \n",
            "\n",
            "2021-11-27 15:50:49 (10.3 MB/s) - ‘wsdm_data.tar.gz’ saved [613394184/613394184]\n",
            "\n",
            "._members.csv\n",
            "members.csv\n",
            "._song_extra_info.csv\n",
            "song_extra_info.csv\n",
            "._songs.csv\n",
            "songs.csv\n",
            "._train.csv\n",
            "train.csv\n",
            "/content\n"
          ]
        }
      ]
    },
    {
      "cell_type": "code",
      "metadata": {
        "id": "DWD04nERFcAX"
      },
      "source": [
        "!touch src/main.py\n",
        "%cd src"
      ],
      "execution_count": 4,
      "outputs": []
    },
    {
      "cell_type": "markdown",
      "metadata": {
        "id": "ry0pv1g3oWgj"
      },
      "source": [
        "# Part 1. Catboost"
      ]
    },
    {
      "cell_type": "code",
      "metadata": {
        "id": "DKEsKWXQhpz0"
      },
      "source": [
        "import functools\n",
        "import catboost as cb\n",
        "import pandas as pd\n",
        "import numpy as np\n",
        "from catboost import CatBoostRanker\n",
        "from sklearn.model_selection import train_test_split"
      ],
      "execution_count": 20,
      "outputs": []
    },
    {
      "cell_type": "markdown",
      "metadata": {
        "id": "RhgngEzUlCZi"
      },
      "source": [
        "First we read the data"
      ]
    },
    {
      "cell_type": "code",
      "metadata": {
        "id": "5OM0Fx44GC1s"
      },
      "source": [
        "data_path = \"../data/\"\n",
        "train = pd.read_csv(\n",
        "    data_path + \"train.csv\",\n",
        "    dtype={\n",
        "        \"msno\": \"category\",\n",
        "        \"source_system_tab\": \"category\",\n",
        "        \"source_screen_name\": \"category\",\n",
        "        \"source_type\": \"category\",\n",
        "        \"target\": np.uint8,\n",
        "        \"song_id\": \"category\",\n",
        "    },\n",
        ")\n",
        "songs = pd.read_csv(\n",
        "    data_path + \"songs.csv\",\n",
        "    dtype={\n",
        "        \"genre_ids\": \"category\",\n",
        "        \"language\": \"category\",\n",
        "        \"artist_name\": \"category\",\n",
        "        \"composer\": \"category\",\n",
        "        \"lyricist\": \"category\",\n",
        "        \"song_id\": \"category\",\n",
        "    },\n",
        ")\n",
        "members = pd.read_csv(\n",
        "    data_path + \"members.csv\",\n",
        "    dtype={\"city\": \"category\", \"bd\": np.uint8, \"gender\": \"category\", \"registered_via\": \"category\"},\n",
        "    parse_dates=[\"registration_init_time\", \"expiration_date\"],\n",
        ")\n",
        "songs_extra = pd.read_csv(data_path + \"song_extra_info.csv\")"
      ],
      "execution_count": 22,
      "outputs": []
    },
    {
      "cell_type": "markdown",
      "metadata": {
        "id": "YqFC2CmnlP85"
      },
      "source": [
        "Then split the dataset into 2 part. CV is not really necessary since the dataset is big enough."
      ]
    },
    {
      "cell_type": "code",
      "metadata": {
        "id": "DgCyFdUilHy_"
      },
      "source": [
        "train, val = train_test_split(train, train_size=0.8, random_state=42)"
      ],
      "execution_count": 23,
      "outputs": []
    },
    {
      "cell_type": "markdown",
      "metadata": {
        "id": "_OkkjUyGlwcV"
      },
      "source": [
        "Now we have to preprocess datasets with additional information before merge."
      ]
    },
    {
      "cell_type": "code",
      "metadata": {
        "id": "j9TKJxP1lhmd"
      },
      "source": [
        "def preprocess_data(members, songs, songs_extra):\n",
        "    members[\"membership_days\"] = (\n",
        "        members[\"expiration_date\"].subtract(members[\"registration_init_time\"]).dt.days.astype(int)\n",
        "    )\n",
        "\n",
        "    members[\"registration_year\"] = members[\"registration_init_time\"].dt.year\n",
        "    members[\"registration_month\"] = members[\"registration_init_time\"].dt.month\n",
        "    members[\"registration_date\"] = members[\"registration_init_time\"].dt.day\n",
        "\n",
        "    members[\"expiration_year\"] = members[\"expiration_date\"].dt.year\n",
        "    members[\"expiration_month\"] = members[\"expiration_date\"].dt.month\n",
        "    members[\"expiration_date\"] = members[\"expiration_date\"].dt.day\n",
        "    members = members.drop([\"registration_init_time\"], axis=1)\n",
        "\n",
        "    def isrc_to_year(isrc):\n",
        "        if type(isrc) == str:\n",
        "            if int(isrc[5:7]) > 17:\n",
        "                return 1900 + int(isrc[5:7])\n",
        "            else:\n",
        "                return 2000 + int(isrc[5:7])\n",
        "        else:\n",
        "            return np.nan\n",
        "\n",
        "    songs_extra[\"song_year\"] = songs_extra[\"isrc\"].apply(isrc_to_year)\n",
        "    songs_extra.drop([\"isrc\", \"name\"], axis=1, inplace=True)\n",
        "\n",
        "    return members, songs, songs_extra"
      ],
      "execution_count": 24,
      "outputs": []
    },
    {
      "cell_type": "code",
      "metadata": {
        "colab": {
          "base_uri": "https://localhost:8080/"
        },
        "id": "4O29iVMPlh6Q",
        "outputId": "f300d9a5-16f3-403c-937d-d10bb77af219"
      },
      "source": [
        "print(\"Preprocessing data...\")\n",
        "members, songs, songs_extra = preprocess_data(members, songs, songs_extra)"
      ],
      "execution_count": 25,
      "outputs": [
        {
          "output_type": "stream",
          "name": "stdout",
          "text": [
            "Preprocessing data...\n"
          ]
        }
      ]
    },
    {
      "cell_type": "markdown",
      "metadata": {
        "id": "IZwIHTedmFSG"
      },
      "source": [
        "Merging all the data into 1 dataset."
      ]
    },
    {
      "cell_type": "code",
      "metadata": {
        "id": "eda2m2WQmEVB"
      },
      "source": [
        "def create_ds(df, songs, members, songs_extra):\n",
        "    df = df.merge(songs, on=\"song_id\", how=\"left\")\n",
        "    df = df.merge(members, on=\"msno\", how=\"left\")\n",
        "    df = df.merge(songs_extra, on=\"song_id\", how=\"left\")\n",
        "\n",
        "    df.song_length.fillna(200000, inplace=True)\n",
        "    df.song_length = df.song_length.astype(np.uint32)\n",
        "    df.song_id = df.song_id.astype(\"category\")\n",
        "\n",
        "    return df"
      ],
      "execution_count": 26,
      "outputs": []
    },
    {
      "cell_type": "code",
      "metadata": {
        "colab": {
          "base_uri": "https://localhost:8080/"
        },
        "id": "oZ5NGASJmElV",
        "outputId": "dcd587cc-6941-4de4-e96e-4bb46fc2c2e6"
      },
      "source": [
        "print(\"Merging data...\")\n",
        "train = create_ds(train, songs, members, songs_extra)\n",
        "val = create_ds(val, songs, members, songs_extra)"
      ],
      "execution_count": 28,
      "outputs": [
        {
          "output_type": "stream",
          "name": "stdout",
          "text": [
            "Merging data...\n"
          ]
        }
      ]
    },
    {
      "cell_type": "markdown",
      "metadata": {
        "id": "w6SAPUA3mVSx"
      },
      "source": [
        "Feature engineering time!"
      ]
    },
    {
      "cell_type": "code",
      "metadata": {
        "id": "YRtSX9lrmPwp"
      },
      "source": [
        "def lyricist_count(x):\n",
        "    if x == \"no_lyricist\":\n",
        "        return 0\n",
        "    else:\n",
        "        return sum(map(x.count, [\"|\", \"/\", \"\\\\\", \";\"])) + 1\n",
        "\n",
        "\n",
        "def composer_count(x):\n",
        "    if x == \"no_composer\":\n",
        "        return 0\n",
        "    else:\n",
        "        return sum(map(x.count, [\"|\", \"/\", \"\\\\\", \";\"])) + 1\n",
        "\n",
        "\n",
        "def is_featured(x):\n",
        "    if \"feat\" in str(x):\n",
        "        return 1\n",
        "    return 0\n",
        "\n",
        "\n",
        "def artist_count(x):\n",
        "    if x == \"no_artist\":\n",
        "        return 0\n",
        "    else:\n",
        "        return x.count(\"and\") + x.count(\",\") + x.count(\"feat\") + x.count(\"&\")\n",
        "\n",
        "\n",
        "# is song language 17 or 45.\n",
        "def song_lang_boolean(x):\n",
        "    if \"17.0\" in str(x) or \"45.0\" in str(x):\n",
        "        return 1\n",
        "    return 0\n",
        "\n",
        "\n",
        "def smaller_song(x, mean_song_length):\n",
        "    if x < mean_song_length:\n",
        "        return 1\n",
        "    return 0\n",
        "\n",
        "\n",
        "def process_df(df):\n",
        "    df_agg = df.groupby(\"msno\").aggregate(\"count\")\n",
        "    df_agg = df_agg[df_agg[\"song_id\"] < 1024]\n",
        "\n",
        "    users = set(df_agg.index)\n",
        "\n",
        "    df = df[df[\"msno\"].isin(users)]\n",
        "\n",
        "    df[\"lyricist\"] = df[\"lyricist\"].cat.add_categories([\"no_lyricist\"])\n",
        "    df[\"lyricist\"].fillna(\"no_lyricist\", inplace=True)\n",
        "    df[\"lyricists_count\"] = df[\"lyricist\"].apply(lyricist_count).astype(np.int8)\n",
        "\n",
        "    df[\"composer\"] = df[\"composer\"].cat.add_categories([\"no_composer\"])\n",
        "    df[\"composer\"].fillna(\"no_composer\", inplace=True)\n",
        "    df[\"composer_count\"] = df[\"composer\"].apply(composer_count).astype(np.int8)\n",
        "\n",
        "    df[\"artist_name\"] = df[\"artist_name\"].cat.add_categories([\"no_artist\"])\n",
        "    df[\"artist_name\"].fillna(\"no_artist\", inplace=True)\n",
        "    df[\"is_featured\"] = df[\"artist_name\"].apply(is_featured).astype(np.int8)\n",
        "\n",
        "    df[\"artist_count\"] = df[\"artist_name\"].apply(artist_count).astype(np.int8)\n",
        "\n",
        "    # if artist is same as composer\n",
        "    df[\"artist_composer\"] = (np.asarray(df[\"artist_name\"]) == np.asarray(df[\"composer\"])).astype(np.int8)\n",
        "\n",
        "    # if artist, lyricist and composer are all three same\n",
        "    df[\"artist_composer_lyricist\"] = (\n",
        "        (np.asarray(df[\"artist_name\"]) == np.asarray(df[\"composer\"]))\n",
        "        & np.asarray((df[\"artist_name\"]) == np.asarray(df[\"lyricist\"]))\n",
        "        & np.asarray((df[\"composer\"]) == np.asarray(df[\"lyricist\"]))\n",
        "    ).astype(np.int8)\n",
        "\n",
        "    df[\"song_lang_boolean\"] = df[\"language\"].apply(song_lang_boolean).fillna(0).astype(np.int8)\n",
        "\n",
        "    mean_song_length = np.mean(df[\"song_length\"])\n",
        "\n",
        "    df[\"smaller_song\"] = (\n",
        "        df[\"song_length\"].apply(functools.partial(smaller_song, mean_song_length=mean_song_length)).astype(np.int8)\n",
        "    )\n",
        "\n",
        "    for col in df.columns:\n",
        "        if df[col].dtype == object:\n",
        "            df[col] = df[col].fillna(\"nan\").astype('category')\n",
        "\n",
        "    df = df.sort_values(by=\"msno\")\n",
        "\n",
        "    y = df.target\n",
        "    q = df.msno\n",
        "    X = df.drop([\"target\", \"msno\"], axis=1)\n",
        "\n",
        "    return X, y, q"
      ],
      "execution_count": 29,
      "outputs": []
    },
    {
      "cell_type": "code",
      "metadata": {
        "colab": {
          "base_uri": "https://localhost:8080/"
        },
        "id": "tUj8WIcvmY9E",
        "outputId": "07e978ae-b0e1-4ff2-d4ab-97893e9869ca"
      },
      "source": [
        "print(\"Processing data...\")\n",
        "X_train, y_train, q_train = process_df(train)\n",
        "X_val, y_val, q_val = process_df(val)\n"
      ],
      "execution_count": 30,
      "outputs": [
        {
          "output_type": "stream",
          "name": "stdout",
          "text": [
            "Processing data...\n"
          ]
        },
        {
          "output_type": "stream",
          "name": "stderr",
          "text": [
            "/usr/local/lib/python3.7/dist-packages/ipykernel_launcher.py:49: SettingWithCopyWarning: \n",
            "A value is trying to be set on a copy of a slice from a DataFrame.\n",
            "Try using .loc[row_indexer,col_indexer] = value instead\n",
            "\n",
            "See the caveats in the documentation: https://pandas.pydata.org/pandas-docs/stable/user_guide/indexing.html#returning-a-view-versus-a-copy\n",
            "/usr/local/lib/python3.7/dist-packages/pandas/core/series.py:4536: SettingWithCopyWarning: \n",
            "A value is trying to be set on a copy of a slice from a DataFrame\n",
            "\n",
            "See the caveats in the documentation: https://pandas.pydata.org/pandas-docs/stable/user_guide/indexing.html#returning-a-view-versus-a-copy\n",
            "  downcast=downcast,\n",
            "/usr/local/lib/python3.7/dist-packages/ipykernel_launcher.py:51: SettingWithCopyWarning: \n",
            "A value is trying to be set on a copy of a slice from a DataFrame.\n",
            "Try using .loc[row_indexer,col_indexer] = value instead\n",
            "\n",
            "See the caveats in the documentation: https://pandas.pydata.org/pandas-docs/stable/user_guide/indexing.html#returning-a-view-versus-a-copy\n",
            "/usr/local/lib/python3.7/dist-packages/ipykernel_launcher.py:53: SettingWithCopyWarning: \n",
            "A value is trying to be set on a copy of a slice from a DataFrame.\n",
            "Try using .loc[row_indexer,col_indexer] = value instead\n",
            "\n",
            "See the caveats in the documentation: https://pandas.pydata.org/pandas-docs/stable/user_guide/indexing.html#returning-a-view-versus-a-copy\n",
            "/usr/local/lib/python3.7/dist-packages/ipykernel_launcher.py:55: SettingWithCopyWarning: \n",
            "A value is trying to be set on a copy of a slice from a DataFrame.\n",
            "Try using .loc[row_indexer,col_indexer] = value instead\n",
            "\n",
            "See the caveats in the documentation: https://pandas.pydata.org/pandas-docs/stable/user_guide/indexing.html#returning-a-view-versus-a-copy\n",
            "/usr/local/lib/python3.7/dist-packages/ipykernel_launcher.py:57: SettingWithCopyWarning: \n",
            "A value is trying to be set on a copy of a slice from a DataFrame.\n",
            "Try using .loc[row_indexer,col_indexer] = value instead\n",
            "\n",
            "See the caveats in the documentation: https://pandas.pydata.org/pandas-docs/stable/user_guide/indexing.html#returning-a-view-versus-a-copy\n",
            "/usr/local/lib/python3.7/dist-packages/ipykernel_launcher.py:59: SettingWithCopyWarning: \n",
            "A value is trying to be set on a copy of a slice from a DataFrame.\n",
            "Try using .loc[row_indexer,col_indexer] = value instead\n",
            "\n",
            "See the caveats in the documentation: https://pandas.pydata.org/pandas-docs/stable/user_guide/indexing.html#returning-a-view-versus-a-copy\n",
            "/usr/local/lib/python3.7/dist-packages/ipykernel_launcher.py:61: SettingWithCopyWarning: \n",
            "A value is trying to be set on a copy of a slice from a DataFrame.\n",
            "Try using .loc[row_indexer,col_indexer] = value instead\n",
            "\n",
            "See the caveats in the documentation: https://pandas.pydata.org/pandas-docs/stable/user_guide/indexing.html#returning-a-view-versus-a-copy\n",
            "/usr/local/lib/python3.7/dist-packages/ipykernel_launcher.py:64: SettingWithCopyWarning: \n",
            "A value is trying to be set on a copy of a slice from a DataFrame.\n",
            "Try using .loc[row_indexer,col_indexer] = value instead\n",
            "\n",
            "See the caveats in the documentation: https://pandas.pydata.org/pandas-docs/stable/user_guide/indexing.html#returning-a-view-versus-a-copy\n",
            "/usr/local/lib/python3.7/dist-packages/ipykernel_launcher.py:71: SettingWithCopyWarning: \n",
            "A value is trying to be set on a copy of a slice from a DataFrame.\n",
            "Try using .loc[row_indexer,col_indexer] = value instead\n",
            "\n",
            "See the caveats in the documentation: https://pandas.pydata.org/pandas-docs/stable/user_guide/indexing.html#returning-a-view-versus-a-copy\n",
            "/usr/local/lib/python3.7/dist-packages/ipykernel_launcher.py:73: SettingWithCopyWarning: \n",
            "A value is trying to be set on a copy of a slice from a DataFrame.\n",
            "Try using .loc[row_indexer,col_indexer] = value instead\n",
            "\n",
            "See the caveats in the documentation: https://pandas.pydata.org/pandas-docs/stable/user_guide/indexing.html#returning-a-view-versus-a-copy\n",
            "/usr/local/lib/python3.7/dist-packages/ipykernel_launcher.py:78: SettingWithCopyWarning: \n",
            "A value is trying to be set on a copy of a slice from a DataFrame.\n",
            "Try using .loc[row_indexer,col_indexer] = value instead\n",
            "\n",
            "See the caveats in the documentation: https://pandas.pydata.org/pandas-docs/stable/user_guide/indexing.html#returning-a-view-versus-a-copy\n",
            "/usr/local/lib/python3.7/dist-packages/ipykernel_launcher.py:83: SettingWithCopyWarning: \n",
            "A value is trying to be set on a copy of a slice from a DataFrame.\n",
            "Try using .loc[row_indexer,col_indexer] = value instead\n",
            "\n",
            "See the caveats in the documentation: https://pandas.pydata.org/pandas-docs/stable/user_guide/indexing.html#returning-a-view-versus-a-copy\n",
            "/usr/local/lib/python3.7/dist-packages/ipykernel_launcher.py:49: SettingWithCopyWarning: \n",
            "A value is trying to be set on a copy of a slice from a DataFrame.\n",
            "Try using .loc[row_indexer,col_indexer] = value instead\n",
            "\n",
            "See the caveats in the documentation: https://pandas.pydata.org/pandas-docs/stable/user_guide/indexing.html#returning-a-view-versus-a-copy\n",
            "/usr/local/lib/python3.7/dist-packages/pandas/core/series.py:4536: SettingWithCopyWarning: \n",
            "A value is trying to be set on a copy of a slice from a DataFrame\n",
            "\n",
            "See the caveats in the documentation: https://pandas.pydata.org/pandas-docs/stable/user_guide/indexing.html#returning-a-view-versus-a-copy\n",
            "  downcast=downcast,\n",
            "/usr/local/lib/python3.7/dist-packages/ipykernel_launcher.py:51: SettingWithCopyWarning: \n",
            "A value is trying to be set on a copy of a slice from a DataFrame.\n",
            "Try using .loc[row_indexer,col_indexer] = value instead\n",
            "\n",
            "See the caveats in the documentation: https://pandas.pydata.org/pandas-docs/stable/user_guide/indexing.html#returning-a-view-versus-a-copy\n",
            "/usr/local/lib/python3.7/dist-packages/ipykernel_launcher.py:53: SettingWithCopyWarning: \n",
            "A value is trying to be set on a copy of a slice from a DataFrame.\n",
            "Try using .loc[row_indexer,col_indexer] = value instead\n",
            "\n",
            "See the caveats in the documentation: https://pandas.pydata.org/pandas-docs/stable/user_guide/indexing.html#returning-a-view-versus-a-copy\n",
            "/usr/local/lib/python3.7/dist-packages/ipykernel_launcher.py:55: SettingWithCopyWarning: \n",
            "A value is trying to be set on a copy of a slice from a DataFrame.\n",
            "Try using .loc[row_indexer,col_indexer] = value instead\n",
            "\n",
            "See the caveats in the documentation: https://pandas.pydata.org/pandas-docs/stable/user_guide/indexing.html#returning-a-view-versus-a-copy\n",
            "/usr/local/lib/python3.7/dist-packages/ipykernel_launcher.py:57: SettingWithCopyWarning: \n",
            "A value is trying to be set on a copy of a slice from a DataFrame.\n",
            "Try using .loc[row_indexer,col_indexer] = value instead\n",
            "\n",
            "See the caveats in the documentation: https://pandas.pydata.org/pandas-docs/stable/user_guide/indexing.html#returning-a-view-versus-a-copy\n",
            "/usr/local/lib/python3.7/dist-packages/ipykernel_launcher.py:59: SettingWithCopyWarning: \n",
            "A value is trying to be set on a copy of a slice from a DataFrame.\n",
            "Try using .loc[row_indexer,col_indexer] = value instead\n",
            "\n",
            "See the caveats in the documentation: https://pandas.pydata.org/pandas-docs/stable/user_guide/indexing.html#returning-a-view-versus-a-copy\n",
            "/usr/local/lib/python3.7/dist-packages/ipykernel_launcher.py:61: SettingWithCopyWarning: \n",
            "A value is trying to be set on a copy of a slice from a DataFrame.\n",
            "Try using .loc[row_indexer,col_indexer] = value instead\n",
            "\n",
            "See the caveats in the documentation: https://pandas.pydata.org/pandas-docs/stable/user_guide/indexing.html#returning-a-view-versus-a-copy\n",
            "/usr/local/lib/python3.7/dist-packages/ipykernel_launcher.py:64: SettingWithCopyWarning: \n",
            "A value is trying to be set on a copy of a slice from a DataFrame.\n",
            "Try using .loc[row_indexer,col_indexer] = value instead\n",
            "\n",
            "See the caveats in the documentation: https://pandas.pydata.org/pandas-docs/stable/user_guide/indexing.html#returning-a-view-versus-a-copy\n",
            "/usr/local/lib/python3.7/dist-packages/ipykernel_launcher.py:71: SettingWithCopyWarning: \n",
            "A value is trying to be set on a copy of a slice from a DataFrame.\n",
            "Try using .loc[row_indexer,col_indexer] = value instead\n",
            "\n",
            "See the caveats in the documentation: https://pandas.pydata.org/pandas-docs/stable/user_guide/indexing.html#returning-a-view-versus-a-copy\n",
            "/usr/local/lib/python3.7/dist-packages/ipykernel_launcher.py:73: SettingWithCopyWarning: \n",
            "A value is trying to be set on a copy of a slice from a DataFrame.\n",
            "Try using .loc[row_indexer,col_indexer] = value instead\n",
            "\n",
            "See the caveats in the documentation: https://pandas.pydata.org/pandas-docs/stable/user_guide/indexing.html#returning-a-view-versus-a-copy\n",
            "/usr/local/lib/python3.7/dist-packages/ipykernel_launcher.py:78: SettingWithCopyWarning: \n",
            "A value is trying to be set on a copy of a slice from a DataFrame.\n",
            "Try using .loc[row_indexer,col_indexer] = value instead\n",
            "\n",
            "See the caveats in the documentation: https://pandas.pydata.org/pandas-docs/stable/user_guide/indexing.html#returning-a-view-versus-a-copy\n",
            "/usr/local/lib/python3.7/dist-packages/ipykernel_launcher.py:83: SettingWithCopyWarning: \n",
            "A value is trying to be set on a copy of a slice from a DataFrame.\n",
            "Try using .loc[row_indexer,col_indexer] = value instead\n",
            "\n",
            "See the caveats in the documentation: https://pandas.pydata.org/pandas-docs/stable/user_guide/indexing.html#returning-a-view-versus-a-copy\n"
          ]
        }
      ]
    },
    {
      "cell_type": "markdown",
      "metadata": {
        "id": "556pcAm8mvHW"
      },
      "source": [
        "Since we're going to be using CatBoost we have to define cat features explicitly."
      ]
    },
    {
      "cell_type": "code",
      "metadata": {
        "id": "0hp1H8JimogK"
      },
      "source": [
        "cat_features = list(X_train.select_dtypes([\"category\"]))\n",
        "\n",
        "arr = [col for col in cat_features if X_train[col].isnull().values.any()]\n",
        "\n",
        "X_train[arr] = X_train[arr].astype(str).fillna(\"nan\").astype(\"category\")\n",
        "X_val[arr] = X_val[arr].astype(str).fillna(\"nan\").astype(\"category\")"
      ],
      "execution_count": 31,
      "outputs": []
    },
    {
      "cell_type": "code",
      "metadata": {
        "id": "1L6ieEDbm5PX"
      },
      "source": [
        "train = cb.Pool(\n",
        "    data=X_train,\n",
        "    label=y_train,\n",
        "    group_id=q_train,\n",
        "    cat_features=cat_features\n",
        ")\n",
        "\n",
        "val = cb.Pool(\n",
        "    data=X_val,\n",
        "    label=y_val,\n",
        "    group_id=q_val,\n",
        "    cat_features=cat_features\n",
        ")"
      ],
      "execution_count": 32,
      "outputs": []
    },
    {
      "cell_type": "markdown",
      "metadata": {
        "id": "_oIBSE5Dm_Kd"
      },
      "source": [
        "Finally we can start training."
      ]
    },
    {
      "cell_type": "code",
      "metadata": {
        "id": "-YkswRNEnJ4a"
      },
      "source": [
        "def train_cb(train, val):\n",
        "    default_parameters = {\n",
        "        'custom_metric': [\"NDCG\", \"QueryAUC\", \"AUC\", 'AverageGain:top=10'],\n",
        "        'random_seed': 42,\n",
        "        \"loss_function\": \"YetiRank\",\n",
        "        \"train_dir\": \"YetiRank\",\n",
        "        \"metric_period\": 50\n",
        "    }\n",
        "\n",
        "    parameters = {\n",
        "        \"learning_rate\": 0.1,\n",
        "        \"iterations\": 200,\n",
        "        \"task_type\": \"GPU\",\n",
        "        **default_parameters\n",
        "    }\n",
        "\n",
        "    model = CatBoostRanker(**parameters)\n",
        "    model.fit(train, eval_set=val, plot=True, verbose=1)\n",
        "\n",
        "    metrics = model.eval_metrics(data=val, metrics=[\"NDCG\", \"QueryAUC\", \"AUC\"])\n",
        "\n",
        "    return model, metrics"
      ],
      "execution_count": 33,
      "outputs": []
    },
    {
      "cell_type": "code",
      "metadata": {
        "colab": {
          "base_uri": "https://localhost:8080/",
          "height": 252,
          "referenced_widgets": [
            "20d5b34c458a4e2cafb661c8f7420674"
          ]
        },
        "id": "UsTwlj_0nFD-",
        "outputId": "25b69743-40de-4ff3-d0db-5feaddb42fc6"
      },
      "source": [
        "print(\"Fitting model...\")\n",
        "model, metrics = train_cb(train, val)"
      ],
      "execution_count": 34,
      "outputs": [
        {
          "output_type": "stream",
          "name": "stdout",
          "text": [
            "Fitting model...\n"
          ]
        },
        {
          "output_type": "display_data",
          "data": {
            "application/vnd.jupyter.widget-view+json": {
              "model_id": "20d5b34c458a4e2cafb661c8f7420674",
              "version_minor": 0,
              "version_major": 2
            },
            "text/plain": [
              "MetricVisualizer(layout=Layout(align_self='stretch', height='500px'))"
            ]
          },
          "metadata": {}
        },
        {
          "output_type": "stream",
          "name": "stdout",
          "text": [
            "Groupwise loss function. OneHotMaxSize set to 10\n"
          ]
        },
        {
          "output_type": "stream",
          "name": "stderr",
          "text": [
            "Metric PFound is not implemented on GPU. Will use CPU for metric computation, this could significantly affect learning time\n",
            "Metric PFound is not implemented on GPU. Will use CPU for metric computation, this could significantly affect learning time\n",
            "Metric NDCG:type=Base is not implemented on GPU. Will use CPU for metric computation, this could significantly affect learning time\n",
            "Metric QueryAUC is not implemented on GPU. Will use CPU for metric computation, this could significantly affect learning time\n",
            "Metric AverageGain:top=10 is not implemented on GPU. Will use CPU for metric computation, this could significantly affect learning time\n"
          ]
        },
        {
          "output_type": "stream",
          "name": "stdout",
          "text": [
            "0:\ttest: 0.7349509\tbest: 0.7349509 (0)\ttotal: 3.48s\tremaining: 11m 32s\n",
            "50:\ttest: 0.7821481\tbest: 0.7821481 (50)\ttotal: 1m 54s\tremaining: 5m 34s\n",
            "100:\ttest: 0.7845300\tbest: 0.7845300 (100)\ttotal: 3m 53s\tremaining: 3m 49s\n",
            "150:\ttest: 0.7853413\tbest: 0.7853413 (150)\ttotal: 5m 57s\tremaining: 1m 55s\n",
            "199:\ttest: 0.7857538\tbest: 0.7857538 (199)\ttotal: 8m 1s\tremaining: 0us\n",
            "bestTest = 0.7857538027\n",
            "bestIteration = 199\n"
          ]
        }
      ]
    },
    {
      "cell_type": "code",
      "metadata": {
        "colab": {
          "base_uri": "https://localhost:8080/"
        },
        "id": "m_p4ZWLznOzm",
        "outputId": "e37a4a80-87cf-4935-8eb6-cbb338076e58"
      },
      "source": [
        "for name, vals in metrics.items():\n",
        "    print(f\"{name}: {vals[-1]: .4f}\")"
      ],
      "execution_count": 35,
      "outputs": [
        {
          "output_type": "stream",
          "name": "stdout",
          "text": [
            "NDCG:type=Base:  0.8726\n",
            "QueryAUC:  0.5432\n",
            "AUC:  0.6909\n"
          ]
        }
      ]
    },
    {
      "cell_type": "markdown",
      "metadata": {
        "id": "SoH3Jz33ruzY"
      },
      "source": [
        "# Part 2. W2V embeddings"
      ]
    },
    {
      "cell_type": "code",
      "metadata": {
        "id": "T4z1NueyrzQe"
      },
      "source": [
        ""
      ],
      "execution_count": null,
      "outputs": []
    }
  ]
}